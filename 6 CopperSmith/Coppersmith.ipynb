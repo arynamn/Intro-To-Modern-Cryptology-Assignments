{
 "cells": [
  {
   "cell_type": "code",
   "execution_count": 1,
   "metadata": {
    "collapsed": false
   },
   "outputs": [
   ],
   "source": [
    "# SAGE MATH JUPYTER NOTEBOOK CoCALC Virtual Notebook Platform\n",
    "def coppersmith_howgrave_univariate(pol, modulus, beta, mm, tt, XX):\n",
    "\n",
    "    dd = pol.degree()\n",
    "    nn = dd * mm + tt\n",
    "\n",
    "    polZ = pol.change_ring(ZZ)\n",
    "    x = polZ.parent().gen()\n",
    "\n",
    "    # compute polynomials\n",
    "    gg = []\n",
    "    for ii in range(mm):\n",
    "        for jj in range(dd):\n",
    "            gg.append((x * XX)**jj * modulus**(mm - ii) * polZ(x * XX)**ii)\n",
    "    for ii in range(tt):\n",
    "        gg.append((x * XX)**ii * polZ(x * XX)**mm)\n",
    "\n",
    "    # construct lattice B\n",
    "    BB = Matrix(ZZ, nn)\n",
    "\n",
    "    for ii in range(nn):\n",
    "        for jj in range(ii+1):\n",
    "            BB[ii, jj] = gg[ii][jj]\n",
    "\n",
    "    # LLL\n",
    "    BB = BB.LLL()\n",
    "\n",
    "    # transform shortest vector in polynomial\n",
    "    new_pol = 0\n",
    "    for ii in range(nn):\n",
    "        new_pol += x**ii * BB[0, ii] / XX**ii\n",
    "\n",
    "    # factor polynomial\n",
    "    potential_roots = new_pol.roots()\n",
    "\n",
    "    # test roots\n",
    "    roots = []\n",
    "    for root in potential_roots:\n",
    "        if root[0].is_integer():\n",
    "            result = polZ(ZZ(root[0]))\n",
    "            if gcd(modulus, result) >= modulus^beta:\n",
    "                return (ZZ(root[0]))\n",
    "\n",
    "    return roots\n",
    "\n",
    "# Reference : https://www.cryptologie.net/article/222/implementation-of-coppersmith-attack-rsa-attack-using-lattice-reductions/\n",
    "# Reference : CopperSmith Sage  https://github.com/mimoo/RSA-and-LLL-attacks"
   ]
  },
  {
   "cell_type": "code",
   "execution_count": 2,
   "metadata": {
    "collapsed": false
   },
   "outputs": [
   ],
   "source": [
    "e = 5\n",
    "N = 84364443735725034864402554533826279174703893439763343343863260342756678609216895093779263028809246505955647572176682669445270008816481771701417554768871285020442403001649254405058303439906229201909599348669565697534331652019516409514800265887388539283381053937433496994442146419682027649079704982600857517093\n",
    "C = 23701787746829110396789094907319830305538180376427283226295906585301889543996533410539381779684366880970896279018807100530176651625086988655210858554133345906272561027798171440923147960165094891980452757852685707020289384698322665347609905744582248157246932007978339129630067022987966706955482598869800151693\n",
    "pad = \"You see a Gold-Bug in one corner. It is the key to a treasure found by\"\n",
    "msg_len = 100\n",
    "\n",
    "pad_str = ''\n",
    "for x in pad:\n",
    "    pad_str = pad_str + bin(ord(x))[2:].zfill(8)"
   ]
  },
  {
   "cell_type": "code",
   "execution_count": 3,
   "metadata": {
    "collapsed": false
   },
   "outputs": [
   ],
   "source": [
    "ZmodN = Zmod(N);\n",
    "P.<M> = PolynomialRing(ZmodN);\n",
    "\n",
    "for length_M in range(0, msg_len+1, 4):\n",
    "\n",
    "    pol = ((int(pad_str, 2)<<length_M) + M)^e - C\n",
    "    dd = pol.degree()\n",
    "\n",
    "    # Tweak those\n",
    "    beta    = 1\n",
    "    epsilon = beta / 7\n",
    "    mm      = ceil( beta**2 / (dd * epsilon) )\n",
    "    tt      = floor( dd * mm * ((1/beta) - 1) )\n",
    "    XX      = ceil( N**((beta**2/dd) - epsilon) )\n",
    "\n",
    "    root = coppersmith_howgrave_univariate(pol, N, beta, mm, tt, XX)\n",
    "\n",
    "    if root != []:\n",
    "        break"
   ]
  },
  {
   "cell_type": "code",
   "execution_count": 4,
   "metadata": {
    "collapsed": false
   },
   "outputs": [
    {
     "name": "stdout",
     "output_type": "stream",
     "text": [
      "root: 595069740817087294497\n",
      "root_binary: 1000000100001001000000011010000111010101100010010000010110110000100001\n"
     ]
    }
   ],
   "source": [
    "root_binary = bin(root)[2:]\n",
    "print(\"root:\", root)\n",
    "print(\"root_binary:\", root_binary)"
   ]
  },
  {
   "cell_type": "code",
   "execution_count": 5,
   "metadata": {
    "collapsed": false
   },
   "outputs": [
    {
     "data": {
      "text/plain": [
       "'001000000100001001000000011010000111010101100010010000010110110000100001'"
      ]
     },
     "execution_count": 5,
     "metadata": {
     },
     "output_type": "execute_result"
    }
   ],
   "source": [
    "root_binary = '00' + root_binary #padding extra 2 bits\n",
    "root_binary"
   ]
  },
  {
   "cell_type": "code",
   "execution_count": 8,
   "metadata": {
    "collapsed": false
   },
   "outputs": [
    {
     "name": "stdout",
     "output_type": "stream",
     "text": [
      " B@hubAl!"
     ]
    }
   ],
   "source": [
    "for i in range(0, len(root_binary), 8):\n",
    "    print( chr( int( root_binary[i:i+8], 2) ) , end = '')"
   ]
  },
  {
   "cell_type": "code",
   "execution_count": 0,
   "metadata": {
    "collapsed": false
   },
   "outputs": [
   ],
   "source": [
   ]
  }
 ],
 "metadata": {
  "kernelspec": {
   "display_name": "SageMath 9.2",
   "language": "sagemath",
   "metadata": {
    "cocalc": {
     "description": "Open-source mathematical software system",
     "priority": 10,
     "url": "https://www.sagemath.org/"
    }
   },
   "name": "sage-9.2",
   "resource_dir": "/ext/jupyter/kernels/sage-9.2"
  },
  "language_info": {
   "codemirror_mode": {
    "name": "ipython",
    "version": 3
   },
   "file_extension": ".py",
   "mimetype": "text/x-python",
   "name": "python",
   "nbconvert_exporter": "python",
   "pygments_lexer": "ipython3",
   "version": "3.8.5"
  }
 },
 "nbformat": 4,
 "nbformat_minor": 4
}