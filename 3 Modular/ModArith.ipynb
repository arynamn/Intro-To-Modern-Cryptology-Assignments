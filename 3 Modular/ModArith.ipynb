{
 "cells": [
  {
   "cell_type": "code",
   "execution_count": 37,
   "id": "protecting-tumor",
   "metadata": {},
   "outputs": [],
   "source": [
    "#Input Given Pair of (a, pass*g^a) as (a,b)\n",
    "# P is the prime number belonging to the field Zp*\n",
    "\n",
    "p = 19807040628566084398385987581\n",
    "(a1,b1) = (324,  11226815350263531814963336315)  #--1\n",
    "(a2,b2) = (2345, 9190548667900274300830391220)   #--2\n",
    "(a3,b3) = (9513, 4138652629655613570819000497)   #--3"
   ]
  },
  {
   "cell_type": "code",
   "execution_count": 4,
   "id": "packed-claim",
   "metadata": {},
   "outputs": [],
   "source": [
    "# Simplifier :  Dividing one equation with other\n",
    "# g^a1 / g^a2 (mod p) = b1 / b2 (mod p)  \n",
    "# => g^(a1-a2) (mod p) = (b1 * b2^-1) mod p\n",
    "\n",
    "def eqndivider( a1,a2,b1,b2 ):\n",
    "    a = a1-a2 \n",
    "    b = ( b1 * pow(b2,-1,p) ) %p \n",
    "    return(a,b)"
   ]
  },
  {
   "cell_type": "code",
   "execution_count": 38,
   "id": "disciplinary-liverpool",
   "metadata": {},
   "outputs": [],
   "source": [
    "# Computing equation for all possible pair from given 3 sets of points\n",
    "# aij means ai/aj\n",
    "\n",
    "a21,b21 = eqndivider(a2,a1,b2,b1)\n",
    "a32,b32 = eqndivider(a3,a2,b3,b2)\n",
    "a31,b31 = eqndivider(a3,a1,b3,b1)"
   ]
  },
  {
   "cell_type": "code",
   "execution_count": 40,
   "id": "current-python",
   "metadata": {},
   "outputs": [
    {
     "data": {
      "text/plain": [
       "(2021,\n",
       " 7168,\n",
       " 9189,\n",
       " 7021284369301638640577066679,\n",
       " 6339248851737327508924059257,\n",
       " 3426347385144995225825016781)"
      ]
     },
     "execution_count": 40,
     "metadata": {},
     "output_type": "execute_result"
    }
   ],
   "source": [
    "# PRINT\n",
    "a21,a32,a31,b21,b32,b31"
   ]
  },
  {
   "cell_type": "code",
   "execution_count": null,
   "id": "effective-labor",
   "metadata": {},
   "outputs": [],
   "source": []
  },
  {
   "cell_type": "code",
   "execution_count": 45,
   "id": "seasonal-baker",
   "metadata": {},
   "outputs": [
    {
     "name": "stdout",
     "output_type": "stream",
     "text": [
      "139    0     632\n",
      "140    1     633\n",
      "141    2     634\n",
      "142    3     635\n",
      "143    4     636\n",
      "144    5     637\n",
      "145    6     638\n",
      "146    7     639\n",
      "147    8     640\n",
      "148    9     641\n",
      "149    10     642\n",
      "150    11     643\n",
      "151    12     644\n",
      "152    13     645\n",
      "153    14     646\n",
      "154    15     647\n",
      "155    16     648\n",
      "156    17     649\n"
     ]
    },
    {
     "ename": "KeyboardInterrupt",
     "evalue": "",
     "output_type": "error",
     "traceback": [
      "\u001b[1;31m---------------------------------------------------------------------------\u001b[0m",
      "\u001b[1;31mKeyboardInterrupt\u001b[0m                         Traceback (most recent call last)",
      "\u001b[1;32m<ipython-input-45-9269dfc3af53>\u001b[0m in \u001b[0;36m<module>\u001b[1;34m\u001b[0m\n\u001b[0;32m      4\u001b[0m     \u001b[1;32mfor\u001b[0m \u001b[0mj\u001b[0m \u001b[1;32min\u001b[0m \u001b[0mrange\u001b[0m\u001b[1;33m(\u001b[0m\u001b[1;36m1000\u001b[0m\u001b[1;33m)\u001b[0m\u001b[1;33m:\u001b[0m\u001b[1;33m\u001b[0m\u001b[1;33m\u001b[0m\u001b[0m\n\u001b[0;32m      5\u001b[0m         \u001b[1;32mfor\u001b[0m \u001b[0mk\u001b[0m \u001b[1;32min\u001b[0m \u001b[0mrange\u001b[0m\u001b[1;33m(\u001b[0m\u001b[1;36m1000\u001b[0m\u001b[1;33m)\u001b[0m\u001b[1;33m:\u001b[0m\u001b[1;33m\u001b[0m\u001b[1;33m\u001b[0m\u001b[0m\n\u001b[1;32m----> 6\u001b[1;33m              \u001b[1;32mif\u001b[0m\u001b[1;33m(\u001b[0m \u001b[1;33m-\u001b[0m\u001b[0ma31\u001b[0m \u001b[1;33m*\u001b[0m \u001b[0mi\u001b[0m \u001b[1;33m+\u001b[0m \u001b[0ma32\u001b[0m \u001b[1;33m*\u001b[0m \u001b[0mj\u001b[0m \u001b[1;33m+\u001b[0m \u001b[0ma21\u001b[0m \u001b[1;33m*\u001b[0m \u001b[0mk\u001b[0m \u001b[1;33m==\u001b[0m \u001b[1;36m1\u001b[0m \u001b[1;33m)\u001b[0m\u001b[1;33m:\u001b[0m\u001b[1;33m\u001b[0m\u001b[1;33m\u001b[0m\u001b[0m\n\u001b[0m\u001b[0;32m      7\u001b[0m                     \u001b[0mprint\u001b[0m\u001b[1;33m(\u001b[0m\u001b[0mi\u001b[0m\u001b[1;33m,\u001b[0m\u001b[1;34m'  '\u001b[0m\u001b[1;33m,\u001b[0m\u001b[0mj\u001b[0m\u001b[1;33m,\u001b[0m\u001b[1;34m'   '\u001b[0m\u001b[1;33m,\u001b[0m\u001b[0mk\u001b[0m\u001b[1;33m)\u001b[0m\u001b[1;33m\u001b[0m\u001b[1;33m\u001b[0m\u001b[0m\n\u001b[0;32m      8\u001b[0m                     \u001b[1;32mbreak\u001b[0m\u001b[1;33m\u001b[0m\u001b[1;33m\u001b[0m\u001b[0m\n",
      "\u001b[1;31mKeyboardInterrupt\u001b[0m: "
     ]
    }
   ],
   "source": [
    "# ------ Hit and Trial -----\n",
    "# My aim was to somehow make the exponent in g^e  e = 1.\n",
    "# So I tried to search for set of values ( i, j, k) such that \n",
    "# any combination of the +- e1 * i +- e2 * j +- e3 * k  becomes 1.\n",
    "# Luckily i found many.  Below is the code  \n",
    "# -\n",
    "# Also stopped the execution after getting sufficient information\n",
    "\n",
    "for i in range(1000):\n",
    "    for j in range(1000):\n",
    "        for k in range(1000):\n",
    "             if( -a31 * i + a32 * j + a21 * k == 1 ):\n",
    "                    print(i,'  ',j,'   ',k)\n",
    "                    break"
   ]
  },
  {
   "cell_type": "code",
   "execution_count": 60,
   "id": "superb-district",
   "metadata": {},
   "outputs": [
    {
     "name": "stdout",
     "output_type": "stream",
     "text": [
      "num31 =  17064457453994872811494067145 \n",
      "num21 = 9145714735161140899390199931\n"
     ]
    }
   ],
   "source": [
    "# Since a21 * 632 - 139 * a31  = 1\n",
    "# Adding 632 and 139 as exponents in both side for each eqaution makes\n",
    "# g ^ ( a31 * 139 ) = (g ^ a31)^ 139 = b31 ^ 139 = num31 \n",
    "# g ^ ( a21 * 632 ) = (g ^ a21)^ 632 = b21 ^ 632 = num21\n",
    "\n",
    "num31 = pow(b31, 139, p)\n",
    "num21 = pow(b21, 632, p)\n",
    "\n",
    "print('num31 = ',num31,'\\nnum21 =',num21)"
   ]
  },
  {
   "cell_type": "code",
   "execution_count": 61,
   "id": "raised-creek",
   "metadata": {},
   "outputs": [
    {
     "name": "stdout",
     "output_type": "stream",
     "text": [
      "g =  192847283928500239481729\n"
     ]
    }
   ],
   "source": [
    "# Finally divding two updated equation\n",
    "# num31 / num 21 = g ^ ( a21* 632 - a31*139 ) = g \n",
    "\n",
    "g = ( num21 * pow(num31,-1,p) ) %p\n",
    "print('g = ', g)"
   ]
  },
  {
   "cell_type": "code",
   "execution_count": 62,
   "id": "governmental-oxygen",
   "metadata": {},
   "outputs": [
    {
     "name": "stdout",
     "output_type": "stream",
     "text": [
      "Password =  3608528850368400786036725\n"
     ]
    }
   ],
   "source": [
    "# Verifier that g matches the partial characters given in question\n",
    "\n",
    "# Calculating password using equation 1\n",
    "\n",
    "password = (b1 * pow( pow(g,a1,p) , -1, p ) ) %p\n",
    "print('Password = ',password)"
   ]
  },
  {
   "cell_type": "code",
   "execution_count": null,
   "id": "derived-element",
   "metadata": {},
   "outputs": [],
   "source": []
  }
 ],
 "metadata": {
  "kernelspec": {
   "display_name": "Python 3",
   "language": "python",
   "name": "python3"
  },
  "language_info": {
   "codemirror_mode": {
    "name": "ipython",
    "version": 3
   },
   "file_extension": ".py",
   "mimetype": "text/x-python",
   "name": "python",
   "nbconvert_exporter": "python",
   "pygments_lexer": "ipython3",
   "version": "3.9.1"
  }
 },
 "nbformat": 4,
 "nbformat_minor": 5
}
