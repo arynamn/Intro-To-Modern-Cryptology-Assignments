{
 "cells": [
  {
   "cell_type": "code",
   "execution_count": 1,
   "metadata": {},
   "outputs": [],
   "source": [
    "from DES_Parameters import *\n",
    "from random import randint \n",
    "from tqdm import tqdm"
   ]
  },
  {
   "cell_type": "code",
   "execution_count": null,
   "metadata": {},
   "outputs": [],
   "source": []
  },
  {
   "cell_type": "code",
   "execution_count": 2,
   "metadata": {},
   "outputs": [],
   "source": [
    "def xorstring(bit1, bit2, n): \n",
    "    ans = '' \n",
    "    for i in range(n):\n",
    "        if(bit1[i] == bit2[i]):\n",
    "            ans = ans + '0'\n",
    "        else:\n",
    "            ans = ans + '1'\n",
    "    return ans\n",
    "\n",
    "def pack4(sbinary):\n",
    "    binary = splitter(sbinary, 4)\n",
    "    packed = ''\n",
    "    for i in range(len(binary)):\n",
    "        packed = packed + tbitmap[binary[i]]\n",
    "    return packed\n",
    "\n",
    "def splitter(block, n):\n",
    "    return [ block[i:i + n] for i in range(0, len(block), n)]"
   ]
  },
  {
   "cell_type": "code",
   "execution_count": null,
   "metadata": {},
   "outputs": [],
   "source": [
    "def script_writer(loc, array, clean):\n",
    "    with open(loc, 'w+') as f:\n",
    "        \n",
    "        if(clean == 0):\n",
    "            f.write('Kerberos\\n')\n",
    "            f.write('Kerberos@2021\\n')\n",
    "            f.write('4\\n')\n",
    "            f.write('read\\n')\n",
    "            f.write('password\\n')\n",
    "            f.write('c\\n')\n",
    "            \n",
    "        for items in array:\n",
    "            f.write('%s\\n' %items)\n",
    "            \n",
    "            if(clean == 0):\n",
    "                f.write('c\\n')\n",
    "                \n",
    "        if(clean == 0):\n",
    "            f.write('back\\n')\n",
    "            f.write('exit\\n')"
   ]
  },
  {
   "cell_type": "code",
   "execution_count": 41,
   "metadata": {},
   "outputs": [],
   "source": []
  },
  {
   "cell_type": "code",
   "execution_count": null,
   "metadata": {},
   "outputs": [],
   "source": []
  },
  {
   "cell_type": "code",
   "execution_count": 42,
   "metadata": {},
   "outputs": [],
   "source": [
    "# XOR OF INPUT PAIRS , Calculated from characteristic equation\n",
    "ip1 = '0000000000000000100000000001000000000000000000000100000000000000'\n",
    "ip2 = '0000000000000000000010000000000100000000000100000000000000000000'"
   ]
  },
  {
   "cell_type": "markdown",
   "metadata": {},
   "source": [
    "# Generate Inputs"
   ]
  },
  {
   "cell_type": "code",
   "execution_count": 5,
   "metadata": {},
   "outputs": [
    {
     "name": "stderr",
     "output_type": "stream",
     "text": [
      "100%|█████████████████████████████████████████████████████████████████████████████| 300/300 [00:00<00:00, 10037.34it/s]\n"
     ]
    }
   ],
   "source": [
    "pt1 = []\n",
    "pt2 = []\n",
    "for j in tqdm( range(0,300) ):\n",
    "    t1 = ''\n",
    "    for i in range(64):\n",
    "        t1 = t1 + str( randint(1,100)%2)\n",
    "    t2 = xorstring(t1, ip1, 64)\n",
    "    t3 = xorstring(t1, ip2, 64)\n",
    "    \n",
    "    pt1.append( pack4(t1) )\n",
    "    pt1.append( pack4(t2) )\n",
    "    \n",
    "    pt2.append( pack4(t1) )\n",
    "    pt2.append( pack4(t3) )"
   ]
  },
  {
   "cell_type": "code",
   "execution_count": 7,
   "metadata": {},
   "outputs": [],
   "source": [
    "script_writer('texts/pt1.txt', pt1, 0)\n",
    "script_writer('texts/pt1_clean.txt', pt1, 1)\n",
    "script_writer('texts/pt2.txt', pt2, 0)\n",
    "script_writer('texts/pt2_clean.txt', pt2, 1)"
   ]
  },
  {
   "cell_type": "code",
   "execution_count": null,
   "metadata": {},
   "outputs": [],
   "source": []
  },
  {
   "cell_type": "markdown",
   "metadata": {},
   "source": [
    "# Output Cleaner"
   ]
  },
  {
   "cell_type": "code",
   "execution_count": 38,
   "metadata": {
    "scrolled": true
   },
   "outputs": [],
   "source": [
    "ct1 = []\n",
    "ct2 = []\n",
    "\n",
    "file1 = open(\"texts/out1.txt\",\"r\")\n",
    "for i in range(69):\n",
    "    file1.readline()\n",
    "    \n",
    "for t in file1:\n",
    "    ct1.append(t[2:18])\n",
    "    for i in range(14):\n",
    "        file1.readline()\n",
    "        \n",
    "file2 = open(\"texts/out2.txt\",\"r\")\n",
    "for i in range(69):\n",
    "    file2.readline()\n",
    "    \n",
    "for t in file2:\n",
    "    ct2.append(t[2:18])\n",
    "    for i in range(14):\n",
    "        file2.readline()"
   ]
  },
  {
   "cell_type": "code",
   "execution_count": 39,
   "metadata": {},
   "outputs": [],
   "source": [
    "script_writer('texts/ct1_clean.txt', ct1, 1)\n",
    "script_writer('texts/ct2_clean.txt', ct2, 1)"
   ]
  },
  {
   "cell_type": "code",
   "execution_count": null,
   "metadata": {},
   "outputs": [],
   "source": []
  }
 ],
 "metadata": {
  "kernelspec": {
   "display_name": "Python 3",
   "language": "python",
   "name": "python3"
  },
  "language_info": {
   "codemirror_mode": {
    "name": "ipython",
    "version": 3
   },
   "file_extension": ".py",
   "mimetype": "text/x-python",
   "name": "python",
   "nbconvert_exporter": "python",
   "pygments_lexer": "ipython3",
   "version": "3.7.10"
  }
 },
 "nbformat": 4,
 "nbformat_minor": 4
}
