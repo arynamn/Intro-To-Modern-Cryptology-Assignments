{
 "cells": [
  {
   "cell_type": "code",
   "execution_count": 1,
   "id": "cultural-february",
   "metadata": {},
   "outputs": [],
   "source": [
    "from DES_Parameters import *\n",
    "from tqdm import tqdm"
   ]
  },
  {
   "cell_type": "code",
   "execution_count": 2,
   "id": "superior-integral",
   "metadata": {},
   "outputs": [],
   "source": [
    "def xorstring(bit1, bit2, n): \n",
    "    ans = '' \n",
    "    for i in range(n):\n",
    "        if(bit1[i] == bit2[i]):\n",
    "            ans = ans + '0'\n",
    "        else:\n",
    "            ans = ans + '1'\n",
    "    return ans\n",
    "\n",
    "def splitter(block, n):\n",
    "    return [ block[i:i + n] for i in range(0, len(block), n)]\n",
    "\n",
    "def shift_left(block, n):\n",
    "    return block[n:] + block[0:n]\n",
    "\n",
    "def permute(block, permuter, n):\n",
    "    out = ''\n",
    "    for i in range(n):\n",
    "        out = out + block[ permuter[i] - 1]\n",
    "    return out\n",
    "\n",
    "def read_file(loc):\n",
    "    textpairs = []\n",
    "    f = open(loc, \"r\")\n",
    "    while True:\n",
    "        text1 = f.readline()\n",
    "        text2 = f.readline()\n",
    "        if not text1:\n",
    "            break\n",
    "        textpairs.append( [text1[:-1],text2[:-1]] )\n",
    "    return textpairs"
   ]
  },
  {
   "cell_type": "code",
   "execution_count": null,
   "id": "dated-corruption",
   "metadata": {},
   "outputs": [],
   "source": []
  },
  {
   "cell_type": "code",
   "execution_count": 3,
   "id": "electrical-beaver",
   "metadata": {},
   "outputs": [],
   "source": [
    "def unpack(spacked):\n",
    "    packed = [char for char in spacked] \n",
    "    binary = ''\n",
    "    for i in range(len(packed)):\n",
    "        binary = binary + charmap[packed[i]]\n",
    "    return binary\n",
    "\n",
    "def pack(sbinary):\n",
    "    binary = splitter(sbinary, 4)\n",
    "    packed = ''\n",
    "    for i in range(len(binary)):\n",
    "        packed = packed + bitmap[binary[i]]\n",
    "    return packed\n",
    "\n",
    "def unpack4(spacked):\n",
    "    packed = [char for char in spacked] \n",
    "    binary = ''\n",
    "    for i in range(len(packed)):\n",
    "        binary = binary + tcharmap[packed[i]]\n",
    "    return binary\n",
    "\n",
    "def pack4(sbinary):\n",
    "    binary = splitter(sbinary, 4)\n",
    "    packed = ''\n",
    "    for i in range(len(binary)):\n",
    "        packed = packed + tbitmap[binary[i]]\n",
    "    return packed"
   ]
  },
  {
   "cell_type": "code",
   "execution_count": null,
   "id": "incoming-citizen",
   "metadata": {},
   "outputs": [],
   "source": []
  },
  {
   "cell_type": "code",
   "execution_count": 4,
   "id": "individual-penguin",
   "metadata": {},
   "outputs": [],
   "source": [
    "def keygen(keybits, rounds, permute_need = 1):\n",
    "    if(permute_need == 1):\n",
    "        keybits = permute(keybits, PC1, 56)\n",
    "        \n",
    "    rkeybit = []\n",
    "    \n",
    "    left = keybits[0:28]\n",
    "    right = keybits[28:56]\n",
    "    \n",
    "    for i in range(rounds):\n",
    "        left  = shift_left( left, shifts[i] )\n",
    "        right = shift_left( right, shifts[i] )\n",
    "        round_key = permute( left+right, PC2, 48)\n",
    "        rkeybit.append( round_key )\n",
    "    return rkeybit"
   ]
  },
  {
   "cell_type": "code",
   "execution_count": null,
   "id": "favorite-sustainability",
   "metadata": {},
   "outputs": [],
   "source": []
  },
  {
   "cell_type": "code",
   "execution_count": 5,
   "id": "judicial-router",
   "metadata": {},
   "outputs": [],
   "source": [
    "def des_expand(block):\n",
    "    return permute(block, E, 48)\n",
    "\n",
    "def des_key(block, key):\n",
    "    return xorstring(block, key, 48)\n",
    "\n",
    "def des_si(block, boxno):\n",
    "    row = int(block[0]) *2 + int(block[5])\n",
    "    col = int(block[1]) *8 + int(block[2]) *4 + int(block[3]) *2 + int(block[4])\n",
    "    val = bin( S[boxno-1][row][col] )[2:].zfill(4)\n",
    "    return val\n",
    "\n",
    "def des_Sbox(block):\n",
    "    out = ''\n",
    "    block = [block[i:i+6] for i in range(0, len(block), 6)]\n",
    "    for i in range(8):\n",
    "        out = out + des_si( block[i], i+1 )\n",
    "    return out\n",
    "\n",
    "def des_permute(block):\n",
    "    return permute(block, P, 32)"
   ]
  },
  {
   "cell_type": "code",
   "execution_count": null,
   "id": "critical-engineer",
   "metadata": {},
   "outputs": [],
   "source": []
  },
  {
   "cell_type": "code",
   "execution_count": 6,
   "id": "focal-motion",
   "metadata": {},
   "outputs": [],
   "source": [
    "def DES(pt, round_key, rounds):\n",
    "    \n",
    "    #INITIAL PERMUTATION\n",
    "    pt    = permute(pt, IP, 64)\n",
    "    left  = pt[:32]\n",
    "    right = pt[32:]\n",
    "    \n",
    "    #ROUNDS STRUCTURE\n",
    "    for i in range(rounds):\n",
    "        r_expand = des_expand(right)\n",
    "        r_keyed  = des_key(r_expand, round_key[i])\n",
    "        r_S      = des_Sbox(r_keyed)\n",
    "        r_per    = des_permute(r_S)\n",
    "        r_out    = xorstring(r_per, left, 32)\n",
    "        \n",
    "\n",
    "        left, right = right, r_out\n",
    "        \n",
    "    # REVERSE FINAL PERMUTATION\n",
    "    ct = permute(left+right, RFP, 64)\n",
    "    return ct"
   ]
  },
  {
   "cell_type": "code",
   "execution_count": null,
   "id": "funny-melbourne",
   "metadata": {},
   "outputs": [],
   "source": []
  },
  {
   "cell_type": "code",
   "execution_count": null,
   "id": "hybrid-supply",
   "metadata": {},
   "outputs": [],
   "source": []
  },
  {
   "cell_type": "markdown",
   "id": "imposed-blanket",
   "metadata": {},
   "source": [
    "# DES  Compute Parameters needed for 6 rounds"
   ]
  },
  {
   "cell_type": "code",
   "execution_count": 7,
   "id": "general-arthritis",
   "metadata": {},
   "outputs": [],
   "source": [
    "def get_all_param(ceq):\n",
    "    \n",
    "    input_xor = permute( unpack(ceq), IP_INV, 64)\n",
    "    \n",
    "    ex  = splitter( des_expand( unpack(ceq)[:32] ), 6)\n",
    "    skbox = []\n",
    "    for i in range(len(ex)):\n",
    "        if(ex[i] == '000000'):\n",
    "            skbox.append(i+1) \n",
    "            \n",
    "    l5xor = unpack(ceq)[32:]\n",
    "    return {\n",
    "        'input_xor' : input_xor,\n",
    "        'Sboxes'    : skbox,\n",
    "        'L5xor'     : l5xor\n",
    "    }"
   ]
  },
  {
   "cell_type": "code",
   "execution_count": 8,
   "id": "advised-disney",
   "metadata": {},
   "outputs": [],
   "source": [
    "# Finding the xor for plain text input pair\n",
    "chr1 = '4008000004000000'\n",
    "chr2 = '0020000800000400'"
   ]
  },
  {
   "cell_type": "code",
   "execution_count": 9,
   "id": "recognized-reduction",
   "metadata": {},
   "outputs": [],
   "source": [
    "c1par = get_all_param(chr1)\n",
    "c2par = get_all_param(chr2)"
   ]
  },
  {
   "cell_type": "code",
   "execution_count": 10,
   "id": "advanced-recognition",
   "metadata": {},
   "outputs": [
    {
     "data": {
      "text/plain": [
       "{'input_xor': '0000000000000000100000000001000000000000000000000100000000000000',\n",
       " 'Sboxes': [2, 5, 6, 7, 8],\n",
       " 'L5xor': '00000100000000000000000000000000'}"
      ]
     },
     "execution_count": 10,
     "metadata": {},
     "output_type": "execute_result"
    }
   ],
   "source": [
    "c1par"
   ]
  },
  {
   "cell_type": "code",
   "execution_count": 11,
   "id": "abandoned-jurisdiction",
   "metadata": {},
   "outputs": [
    {
     "data": {
      "text/plain": [
       "{'input_xor': '0000000000000000000010000000000100000000000100000000000000000000',\n",
       " 'Sboxes': [1, 2, 4, 5, 6],\n",
       " 'L5xor': '00000000000000000000010000000000'}"
      ]
     },
     "execution_count": 11,
     "metadata": {},
     "output_type": "execute_result"
    }
   ],
   "source": [
    "c2par"
   ]
  },
  {
   "cell_type": "code",
   "execution_count": null,
   "id": "ready-typing",
   "metadata": {},
   "outputs": [],
   "source": []
  },
  {
   "cell_type": "code",
   "execution_count": null,
   "id": "understanding-chuck",
   "metadata": {},
   "outputs": [],
   "source": []
  },
  {
   "cell_type": "markdown",
   "id": "removed-excerpt",
   "metadata": {},
   "source": [
    "# Search for 6th round Key"
   ]
  },
  {
   "cell_type": "code",
   "execution_count": 12,
   "id": "thermal-health",
   "metadata": {},
   "outputs": [],
   "source": [
    "keyiset = []\n",
    "for i in range(64):\n",
    "    keyiset.append( str(bin(i)[2:].zfill(6)) )"
   ]
  },
  {
   "cell_type": "code",
   "execution_count": 13,
   "id": "pending-buffer",
   "metadata": {},
   "outputs": [],
   "source": [
    "def get_pairs(ct1, ct2, l5xor):\n",
    "    t1 = permute( unpack4(ct1), RFP_INV, 64)\n",
    "    t2 = permute( unpack4(ct2), RFP_INV, 64)\n",
    "    l61, r61 = t1[:32], t1[32:]\n",
    "    l62, r62 = t2[:32], t2[32:]\n",
    "    \n",
    "    l5xor = permute(l5xor, P_INV, 32)\n",
    "    r6xor = permute(  xorstring(r61,r62,32) , P_INV, 32) \n",
    "    Fp = xorstring(l5xor, r6xor, 32)\n",
    "    \n",
    "    e1 = des_expand(l61)\n",
    "    e2 = des_expand(l62)\n",
    "    \n",
    "    return (splitter(Fp, 4), splitter(e1, 6), splitter(e2, 6) )"
   ]
  },
  {
   "cell_type": "code",
   "execution_count": 14,
   "id": "wooden-apollo",
   "metadata": {},
   "outputs": [],
   "source": [
    "def get_keys(ciphertexts, l5xor, sboxes):\n",
    "    key_freq = {}\n",
    "    for i in sboxes:\n",
    "        key_freq[i] = {}\n",
    "        for k in keyiset:\n",
    "            key_freq[i][k] = 0\n",
    "        \n",
    "    \n",
    "    for c in tqdm( range(len(ciphertexts)) ):\n",
    "        ct = ciphertexts[c]\n",
    "        postS, prekey1, prekey2 = get_pairs(ct[0], ct[1], l5xor)\n",
    "        \n",
    "        for i in sboxes:\n",
    "            \n",
    "            for k in keyiset:\n",
    "                \n",
    "                preS1 = des_si( xorstring(prekey1[i-1], k, 6) , i)\n",
    "                preS2 = des_si( xorstring(prekey2[i-1], k, 6) , i)\n",
    "                preS = xorstring( preS1, preS2, 4)\n",
    "                \n",
    "                if( preS == postS[i-1]):\n",
    "                    key_freq[i][k] = key_freq[i][k] + 1\n",
    "    \n",
    "    for i in sboxes:\n",
    "        key_freq[i] = sorted( key_freq[i].items(), key = lambda kv:(kv[1], kv[0]) , reverse=True)\n",
    "    return key_freq    "
   ]
  },
  {
   "cell_type": "code",
   "execution_count": null,
   "id": "ceramic-giving",
   "metadata": {},
   "outputs": [],
   "source": []
  },
  {
   "cell_type": "code",
   "execution_count": 16,
   "id": "standing-birth",
   "metadata": {},
   "outputs": [],
   "source": [
    "ciphertext1 = read_file('texts/ct1_clean.txt')\n",
    "ciphertext2 = read_file('texts/ct2_clean.txt')"
   ]
  },
  {
   "cell_type": "code",
   "execution_count": 17,
   "id": "subsequent-preliminary",
   "metadata": {},
   "outputs": [
    {
     "name": "stderr",
     "output_type": "stream",
     "text": [
      "100%|███████████████████████████████████████████████████████████████████████████████| 300/300 [00:00<00:00, 624.76it/s]"
     ]
    },
    {
     "name": "stdout",
     "output_type": "stream",
     "text": [
      "2    ('110011', 80)\n",
      "5    ('011011', 43)\n",
      "6    ('110110', 82)\n",
      "7    ('010101', 57)\n",
      "8    ('110100', 44)\n"
     ]
    },
    {
     "name": "stderr",
     "output_type": "stream",
     "text": [
      "\n"
     ]
    }
   ],
   "source": [
    "f1 = get_keys(ciphertext1, c1par['L5xor'], c1par['Sboxes'] )\n",
    "for i in f1.keys():\n",
    "    print(i, '  ', f1[i][0])"
   ]
  },
  {
   "cell_type": "code",
   "execution_count": 18,
   "id": "pursuant-criticism",
   "metadata": {},
   "outputs": [
    {
     "name": "stderr",
     "output_type": "stream",
     "text": [
      "100%|███████████████████████████████████████████████████████████████████████████████| 300/300 [00:00<00:00, 637.23it/s]"
     ]
    },
    {
     "name": "stdout",
     "output_type": "stream",
     "text": [
      "1    ('111101', 52)\n",
      "2    ('110011', 48)\n",
      "4    ('000111', 99)\n",
      "5    ('011011', 49)\n",
      "6    ('110110', 98)\n"
     ]
    },
    {
     "name": "stderr",
     "output_type": "stream",
     "text": [
      "\n"
     ]
    }
   ],
   "source": [
    "f2 = get_keys(ciphertext2, c2par['L5xor'], c2par['Sboxes'] )\n",
    "for i in f2.keys():\n",
    "    print(i, '  ', f2[i][0])"
   ]
  },
  {
   "cell_type": "code",
   "execution_count": 19,
   "id": "intermediate-opposition",
   "metadata": {},
   "outputs": [],
   "source": [
    "key6 = '111101'+'110011'+'xxxxxx'+'000111'+'011011'+'110110'+'010101'+'110100'"
   ]
  },
  {
   "cell_type": "code",
   "execution_count": 20,
   "id": "about-performance",
   "metadata": {},
   "outputs": [
    {
     "data": {
      "text/plain": [
       "'111101110011xxxxxx000111011011110110010101110100'"
      ]
     },
     "execution_count": 20,
     "metadata": {},
     "output_type": "execute_result"
    }
   ],
   "source": [
    "key6"
   ]
  },
  {
   "cell_type": "code",
   "execution_count": null,
   "id": "correct-trunk",
   "metadata": {},
   "outputs": [],
   "source": []
  },
  {
   "cell_type": "code",
   "execution_count": null,
   "id": "alive-surveillance",
   "metadata": {},
   "outputs": [],
   "source": []
  },
  {
   "cell_type": "markdown",
   "id": "printable-international",
   "metadata": {},
   "source": [
    "#  Find Key Mapping"
   ]
  },
  {
   "cell_type": "code",
   "execution_count": 21,
   "id": "premier-shannon",
   "metadata": {},
   "outputs": [],
   "source": [
    "kbits = ''\n",
    "for i in range(56):\n",
    "    kbits = kbits + chr(i+1)"
   ]
  },
  {
   "cell_type": "code",
   "execution_count": 22,
   "id": "received-attitude",
   "metadata": {},
   "outputs": [],
   "source": [
    "rkeybit = []\n",
    "    \n",
    "left = kbits[0:28]\n",
    "right = kbits[28:56]\n",
    "    \n",
    "for i in range(6):\n",
    "        \n",
    "    left  = shift_left( left, shifts[i] )\n",
    "    right = shift_left( right, shifts[i] )\n",
    "        \n",
    "    round_key = permute( left+right, PC2, 48)\n",
    "        \n",
    "    rkeybit.append( round_key )"
   ]
  },
  {
   "cell_type": "code",
   "execution_count": 23,
   "id": "crude-technology",
   "metadata": {},
   "outputs": [],
   "source": [
    "smap = []\n",
    "for x in rkeybit[5]:\n",
    "    smap.append(ord(x))"
   ]
  },
  {
   "cell_type": "code",
   "execution_count": 24,
   "id": "brilliant-accessory",
   "metadata": {},
   "outputs": [],
   "source": [
    "tups = {}\n",
    "for i in range(48):\n",
    "    tups[smap[i]-1] = key6[i]"
   ]
  },
  {
   "cell_type": "code",
   "execution_count": 25,
   "id": "indirect-environment",
   "metadata": {},
   "outputs": [],
   "source": [
    "keymain = ''\n",
    "for i in range(56):\n",
    "    if i in tups.keys():\n",
    "         keymain = keymain + tups[i]\n",
    "    else:\n",
    "        keymain = keymain + 'x'"
   ]
  },
  {
   "cell_type": "code",
   "execution_count": 26,
   "id": "received-highland",
   "metadata": {},
   "outputs": [
    {
     "name": "stdout",
     "output_type": "stream",
     "text": [
      "x11xx1xx01011x100xx11x11001x1010011x11011010x10x0101x011\n"
     ]
    }
   ],
   "source": [
    "print(keymain)"
   ]
  },
  {
   "cell_type": "code",
   "execution_count": null,
   "id": "major-french",
   "metadata": {},
   "outputs": [],
   "source": []
  },
  {
   "cell_type": "markdown",
   "id": "caroline-fitness",
   "metadata": {},
   "source": [
    "# Brute Force Remaining bits"
   ]
  },
  {
   "cell_type": "code",
   "execution_count": 27,
   "id": "signal-spank",
   "metadata": {},
   "outputs": [],
   "source": [
    "file = []\n",
    "for i in range( 2**14 ):\n",
    "    file.append( (bin(i)[2:].zfill(14)) )"
   ]
  },
  {
   "cell_type": "code",
   "execution_count": 28,
   "id": "changed-walker",
   "metadata": {},
   "outputs": [],
   "source": [
    "def tempkeygen(key, block):\n",
    "    counter = 0\n",
    "    newkey = ''\n",
    "    for i in range(56):\n",
    "        if(key[i] == 'x' ):\n",
    "            newkey = newkey + ( block[counter] )\n",
    "            counter = counter + 1\n",
    "        else:\n",
    "            newkey = newkey + (key[i])\n",
    "    return newkey"
   ]
  },
  {
   "cell_type": "code",
   "execution_count": 32,
   "id": "impressed-worth",
   "metadata": {},
   "outputs": [
    {
     "name": "stderr",
     "output_type": "stream",
     "text": [
      " 21%|████████████████                                                           | 3520/16384 [00:00<00:02, 4951.77it/s]"
     ]
    },
    {
     "name": "stdout",
     "output_type": "stream",
     "text": [
      "00110111000000\n"
     ]
    },
    {
     "name": "stderr",
     "output_type": "stream",
     "text": [
      "\n"
     ]
    }
   ],
   "source": [
    "pt_final = unpack4('sfqrtsnnufpurmof')\n",
    "ct_final = unpack4('omiuomrkkilmumfr')\n",
    "\n",
    "for i in tqdm( range(2**14) ):\n",
    "    \n",
    "    tkey = tempkeygen(keymain, file[i])\n",
    "    round_keys  = keygen(tkey, 6, permute_need = 0 )\n",
    "    ctemp = DES( pt_final, round_keys, 6)\n",
    "    if(ctemp == ct_final):\n",
    "        print(file[i])\n",
    "        final_key = (tkey)\n",
    "        break"
   ]
  },
  {
   "cell_type": "code",
   "execution_count": 35,
   "id": "enabling-indian",
   "metadata": {},
   "outputs": [
    {
     "data": {
      "text/plain": [
       "'01101110010111100111101100101010011011011010010001010011'"
      ]
     },
     "execution_count": 35,
     "metadata": {},
     "output_type": "execute_result"
    }
   ],
   "source": [
    "# DES 56 bit KEY\n",
    "final_key"
   ]
  },
  {
   "cell_type": "code",
   "execution_count": null,
   "id": "discrete-things",
   "metadata": {},
   "outputs": [],
   "source": []
  },
  {
   "cell_type": "code",
   "execution_count": null,
   "id": "selected-happening",
   "metadata": {},
   "outputs": [],
   "source": []
  },
  {
   "cell_type": "markdown",
   "id": "handled-sugar",
   "metadata": {},
   "source": [
    "# Decrypt the Password"
   ]
  },
  {
   "cell_type": "code",
   "execution_count": 36,
   "id": "literary-stroke",
   "metadata": {},
   "outputs": [],
   "source": [
    "password = 'fpfhqoljnnnhfpkhrshthpmppoglhoup'\n",
    "round_keys = keygen( final_key, 6,  permute_need= 0 )\n",
    "round_rev_keys = round_keys[::-1]"
   ]
  },
  {
   "cell_type": "code",
   "execution_count": null,
   "id": "careful-newfoundland",
   "metadata": {},
   "outputs": [],
   "source": []
  },
  {
   "cell_type": "code",
   "execution_count": 37,
   "id": "going-grove",
   "metadata": {
    "scrolled": true
   },
   "outputs": [],
   "source": [
    "# DES Decrypt \n",
    "left  = pack4( DES( unpack4(password[:16]) , round_rev_keys,6 ))\n",
    "right = pack4( DES( unpack4(password[16:]) , round_rev_keys,6 ))"
   ]
  },
  {
   "cell_type": "code",
   "execution_count": 40,
   "id": "supposed-window",
   "metadata": {},
   "outputs": [
    {
     "data": {
      "text/plain": [
       "'lumkmjmhljlkljlklrmlifififififif'"
      ]
     },
     "execution_count": 40,
     "metadata": {},
     "output_type": "execute_result"
    }
   ],
   "source": [
    "decrypted_pass = left+right\n",
    "decrypted_pass"
   ]
  },
  {
   "cell_type": "code",
   "execution_count": 39,
   "id": "ancient-lease",
   "metadata": {},
   "outputs": [
    {
     "name": "stdout",
     "output_type": "stream",
     "text": [
      "outrdedelv000000"
     ]
    }
   ],
   "source": [
    "for x in splitter( unpack4(decrypted_pass), 8):\n",
    "    print( chr(int(x,2)) ,end= '' )"
   ]
  },
  {
   "cell_type": "code",
   "execution_count": null,
   "id": "proprietary-colors",
   "metadata": {},
   "outputs": [],
   "source": []
  },
  {
   "cell_type": "code",
   "execution_count": null,
   "id": "naval-macedonia",
   "metadata": {},
   "outputs": [],
   "source": []
  },
  {
   "cell_type": "code",
   "execution_count": null,
   "id": "adopted-webster",
   "metadata": {},
   "outputs": [],
   "source": []
  }
 ],
 "metadata": {
  "kernelspec": {
   "display_name": "Python 3",
   "language": "python",
   "name": "python3"
  },
  "language_info": {
   "codemirror_mode": {
    "name": "ipython",
    "version": 3
   },
   "file_extension": ".py",
   "mimetype": "text/x-python",
   "name": "python",
   "nbconvert_exporter": "python",
   "pygments_lexer": "ipython3",
   "version": "3.7.10"
  }
 },
 "nbformat": 4,
 "nbformat_minor": 5
}
