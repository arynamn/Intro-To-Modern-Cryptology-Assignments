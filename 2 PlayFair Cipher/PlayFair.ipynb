{
 "cells": [
  {
   "cell_type": "code",
   "execution_count": 1,
   "id": "returning-zealand",
   "metadata": {},
   "outputs": [],
   "source": [
    "#Morse :  ... . -.-. ..- .-. .. - -.--\n",
    "#Alpha :  S   e  c    u  r   i  t y"
   ]
  },
  {
   "cell_type": "code",
   "execution_count": 2,
   "id": "spoken-revolution",
   "metadata": {},
   "outputs": [],
   "source": [
    "# PLAY FAIR CIPHER KEY MANUALLY GENERATED\n",
    "key = [ ['s','e','c','u','r'] \n",
    "      , ['i','t','y','a','b']\n",
    "      , ['d','f','g','h','k']\n",
    "      , ['l','m','n','o','p']\n",
    "      , ['q','v','w','x','z']]\n",
    "\n",
    "# ROW INDEX AND COL INDEX TO SPEED UP COMPUTATION\n",
    "rowdict = {}\n",
    "coldict = {}\n",
    "for i in range(len(key)):\n",
    "    for j in range(len(key[i])):\n",
    "        rowdict[ key[i][j] ] = i\n",
    "        coldict[ key[i][j] ] = j"
   ]
  },
  {
   "cell_type": "code",
   "execution_count": 3,
   "id": "exempt-approval",
   "metadata": {},
   "outputs": [],
   "source": [
    "# CIPHER TEXT PROCESSED\n",
    "text = 'TR XYCB MH AFC MUVY EOHPTCS, AFCSS TE QCSI NTYIMS TNA AFCSC.EMRBH XAA VAFR MIUCQPUH \"LMRL_CCETOT\" FN HM AKUXAHK. OTA WANAOTXT FFU EISCWNAF HME BFU MCVA UGTOTRE. BM HYLF IFU UVTY ANEHBSEI QYOQM OUVSF AM EAFTE PYHYS XNSKE IFUSC.'\n",
    "text = text.lower()\n",
    "text = text.replace(' ','')\n",
    "text = text.replace(',','')\n",
    "text = text.replace('.','')\n",
    "text = text.replace('\"','')\n",
    "text = text.replace('_','')"
   ]
  },
  {
   "cell_type": "code",
   "execution_count": 8,
   "id": "wireless-young",
   "metadata": {},
   "outputs": [],
   "source": [
    "def play_fair_decrypter( text, key ):\n",
    "    newtext = ''\n",
    "    for i in range( 0, len(text) , 2 ):\n",
    "        i1 = rowdict[ text[i] ]\n",
    "        j1 = coldict[ text[i] ]\n",
    "        i2 = rowdict[ text[i+1] ]\n",
    "        j2 = coldict[ text[i+1] ]\n",
    "\n",
    "        if( j1 == j2 ):\n",
    "            i1, i2 = (i1-1)%5, (i2-1)%5\n",
    "        elif( i1 == i2 ):\n",
    "            j1, j2 = (j1-1)%5, (j2-1)%5\n",
    "        else:\n",
    "            i1, j1, i2, j2 = i1, j2, i2, j1\n",
    "\n",
    "        newtext = newtext + key[i1][j1] + key[i2][j2]\n",
    "    return newtext"
   ]
  },
  {
   "cell_type": "code",
   "execution_count": 9,
   "id": "accessory-lesson",
   "metadata": {},
   "outputs": [
    {
     "name": "stdout",
     "output_type": "stream",
     "text": [
      "trxycbmhafcmuvyeohptcsafcssteqcsintyimstnaafcscemrbhxaavafrmiucqpuhlmrlccetotfnhmakuxahkotawanaotxtffueiscwnafhmebfumcvaugtotrebmhylfifuuvtyanehbseiqyoqmouvsfameaftepyhysxnskeifusc\n"
     ]
    },
    {
     "data": {
      "text/plain": [
       "[['s', 'e', 'c', 'u', 'r'],\n",
       " ['i', 't', 'y', 'a', 'b'],\n",
       " ['d', 'f', 'g', 'h', 'k'],\n",
       " ['l', 'm', 'n', 'o', 'p'],\n",
       " ['q', 'v', 'w', 'x', 'z']]"
      ]
     },
     "execution_count": 9,
     "metadata": {},
     "output_type": "execute_result"
    }
   ],
   "source": [
    "print(text)\n",
    "key"
   ]
  },
  {
   "cell_type": "code",
   "execution_count": 10,
   "id": "mechanical-consultancy",
   "metadata": {},
   "outputs": [
    {
     "data": {
      "text/plain": [
       "'bewaryofthenextchamberthereisverylittleioytherespeakoutxthepasswordopensesametogothroughmayxyouhavethestrengthforthenextchambertofindtheexityoufirstwilxlnexedtouttermagicwordsthere'"
      ]
     },
     "execution_count": 10,
     "metadata": {},
     "output_type": "execute_result"
    }
   ],
   "source": [
    "play_fair_decrypter(text,key)"
   ]
  },
  {
   "cell_type": "code",
   "execution_count": null,
   "id": "sorted-recommendation",
   "metadata": {},
   "outputs": [],
   "source": []
  }
 ],
 "metadata": {
  "kernelspec": {
   "display_name": "Python 3",
   "language": "python",
   "name": "python3"
  },
  "language_info": {
   "codemirror_mode": {
    "name": "ipython",
    "version": 3
   },
   "file_extension": ".py",
   "mimetype": "text/x-python",
   "name": "python",
   "nbconvert_exporter": "python",
   "pygments_lexer": "ipython3",
   "version": "3.7.8"
  }
 },
 "nbformat": 4,
 "nbformat_minor": 5
}
