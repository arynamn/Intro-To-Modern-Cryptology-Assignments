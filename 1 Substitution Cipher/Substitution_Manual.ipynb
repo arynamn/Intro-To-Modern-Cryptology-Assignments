{
 "cells": [
  {
   "cell_type": "markdown",
   "id": "occasional-elimination",
   "metadata": {},
   "source": [
    "# Initialise Strings and remove spaces"
   ]
  },
  {
   "cell_type": "code",
   "execution_count": 1,
   "id": "underlying-season",
   "metadata": {},
   "outputs": [],
   "source": [
    "instr  = \"wsam ie pjo ysgtm eyipbya .P axg niphay y,mey syw ahgm ewhrg tw hmysyam wh meyiepjoys .Ag jygtmeyk pmys ie pjo ysavw kkoyjgsywhmy sy amwh rmephmewagh y!Me yigu ynay utgsmew ajya apr ywap awjfkya no a mwmnmwghiwfeyswhve wieuwr wm aepby oyyhae wtmyuox8 fkpiya. Me y fpaavgs uwa mxSrN03u wddvwmegnmmey dngmya. Mew awameyt \"\n",
    "instr  = instr.replace(' ','')\n",
    "instr    = instr.lower()"
   ]
  },
  {
   "cell_type": "code",
   "execution_count": 2,
   "id": "everyday-morocco",
   "metadata": {},
   "outputs": [
    {
     "data": {
      "text/plain": [
       "'wsamiepjoysgtmeyipbya.paxgniphayy,meysywahgmewhrgtwhmysyamwhmeyiepjoys.agjygtmeykpmysiepjoysavwkkoyjgsywhmysyamwhrmephmewaghy!meyiguynayutgsmewajyaaprywapawjfkyanoamwmnmwghiwfeyswhvewieuwrwmaepbyoyyhaewtmyuox8fkpiya.meyfpaavgsuwamxsrn03uwddvwmegnmmeydngmya.mewawameyt'"
      ]
     },
     "execution_count": 2,
     "metadata": {},
     "output_type": "execute_result"
    }
   ],
   "source": [
    "instr"
   ]
  },
  {
   "cell_type": "markdown",
   "id": "listed-asthma",
   "metadata": {},
   "source": [
    "# Frequency Count"
   ]
  },
  {
   "cell_type": "code",
   "execution_count": 3,
   "id": "immediate-alarm",
   "metadata": {},
   "outputs": [],
   "source": [
    "from collections import Counter "
   ]
  },
  {
   "cell_type": "code",
   "execution_count": 4,
   "id": "confident-balloon",
   "metadata": {
    "scrolled": true
   },
   "outputs": [
    {
     "name": "stdout",
     "output_type": "stream",
     "text": [
      "y   36\n",
      "m   28\n",
      "a   27\n",
      "w   25\n",
      "e   22\n",
      "g   14\n",
      "s   13\n",
      "p   13\n",
      "h   12\n",
      "i   9\n",
      "o   7\n",
      "n   7\n",
      "j   7\n",
      "u   6\n",
      "t   5\n",
      "r   5\n",
      "k   5\n",
      "v   4\n",
      "f   4\n",
      ".   4\n",
      "x   3\n",
      "d   3\n",
      "b   2\n",
      "8   1\n",
      "3   1\n",
      "0   1\n",
      ",   1\n",
      "!   1\n"
     ]
    }
   ],
   "source": [
    "#Frequency Count\n",
    "res = Counter(instr[idx : idx + 1] for idx in range(len(instr) - 1)) \n",
    "for t in (sorted( res.items(), key = lambda kv:(kv[1], kv[0]) , reverse = True) ):\n",
    "    print(t[0],' ',t[1])"
   ]
  },
  {
   "cell_type": "code",
   "execution_count": 5,
   "id": "possible-coach",
   "metadata": {},
   "outputs": [],
   "source": [
    "# Generate Decrytped Text\n",
    "def decrypter(text, dcipher):\n",
    "    newtext = ''\n",
    "    for c in text:\n",
    "        if c in dcipher.keys():\n",
    "            newtext = newtext + dcipher[c]\n",
    "        else:\n",
    "            newtext = newtext + c\n",
    "    return newtext"
   ]
  },
  {
   "cell_type": "code",
   "execution_count": 6,
   "id": "human-strike",
   "metadata": {},
   "outputs": [
    {
     "name": "stdout",
     "output_type": "stream",
     "text": [
      "wsamiepjoysgtmeyipbya.paxgniphayy,meysywahgmewhrgtwhmysyamwhmeyiepjoys.agjygtmeykpmysiepjoysavwkkoyjgsywhmysyamwhrmephmewaghy!meyiguynayutgsmewajyaaprywapawjfkyanoamwmnmwghiwfeyswhvewieuwrwmaepbyoyyhaewtmyuox8fkpiya.meyfpaavgsuwamxsrn03uwddvwmegnmmeydngmya.mewawameyt\n",
      "\n",
      "\n",
      "irstchamberofthecaves.asyoucansee,thereisnothingofinterestinthechamber.someofthelaterchamberswillbemoreinterestingthanthisone!thecodeusedforthismessageisasimplesubstitutioncipherinwhichdigitshavebeenshiftedby8places.thepasswordistyrgu03diqqwithoutthequotes.thisisthef\n"
     ]
    }
   ],
   "source": [
    "# Generate Substitution Cipher\n",
    "orig_char = 'abcdefghijklmnopqrstuvwxyz'\n",
    "subs_char = 'sv_qhponcml_tuba_grfdwiye_'\n",
    "rep_dict = {}\n",
    "for i in range(26):\n",
    "    rep_dict[orig_char[i]] = subs_char[i]\n",
    "    \n",
    "print(instr)\n",
    "print(\"\\n\")\n",
    "print( decrypter(instr,rep_dict) )"
   ]
  },
  {
   "cell_type": "code",
   "execution_count": 7,
   "id": "sudden-shadow",
   "metadata": {},
   "outputs": [
    {
     "data": {
      "text/plain": [
       "{'a': 's',\n",
       " 'b': 'v',\n",
       " 'c': '_',\n",
       " 'd': 'q',\n",
       " 'e': 'h',\n",
       " 'f': 'p',\n",
       " 'g': 'o',\n",
       " 'h': 'n',\n",
       " 'i': 'c',\n",
       " 'j': 'm',\n",
       " 'k': 'l',\n",
       " 'l': '_',\n",
       " 'm': 't',\n",
       " 'n': 'u',\n",
       " 'o': 'b',\n",
       " 'p': 'a',\n",
       " 'q': '_',\n",
       " 'r': 'g',\n",
       " 's': 'r',\n",
       " 't': 'f',\n",
       " 'u': 'd',\n",
       " 'v': 'w',\n",
       " 'w': 'i',\n",
       " 'x': 'y',\n",
       " 'y': 'e',\n",
       " 'z': '_'}"
      ]
     },
     "execution_count": 7,
     "metadata": {},
     "output_type": "execute_result"
    }
   ],
   "source": [
    "rep_dict"
   ]
  },
  {
   "cell_type": "code",
   "execution_count": 8,
   "id": "obvious-engine",
   "metadata": {},
   "outputs": [],
   "source": [
    "codetemp     = 'tyrgu03diqq'\n",
    "code         = '803'"
   ]
  },
  {
   "cell_type": "code",
   "execution_count": 9,
   "id": "necessary-collar",
   "metadata": {},
   "outputs": [
    {
     "name": "stdout",
     "output_type": "stream",
     "text": [
      "\n",
      " 0   : 803\n",
      " 1   : 914\n",
      " 2   : 025\n",
      " 3   : 136\n",
      " 4   : 247\n",
      " 5   : 358\n",
      " 6   : 469\n",
      " 7   : 570\n",
      " 8   : 681\n",
      " 9   : 792\n",
      "- 0   : 803\n",
      "- 1   : 792\n",
      "- 2   : 681\n",
      "- 3   : 570\n",
      "- 4   : 469\n",
      "- 5   : 358\n",
      "- 6   : 247\n",
      "- 7   : 136\n",
      "- 8   : 025\n",
      "- 9   : 914"
     ]
    }
   ],
   "source": [
    "for i in range(10):\n",
    "    print(\"\\n\",i,\"  : \",end='')\n",
    "    for c in code:\n",
    "        if c.isdigit():\n",
    "            print(chr( ( ( ord(c) -  ord('0') ) + i )% 10 + ord('0')), end='')\n",
    "    \n",
    "for i in range(10):\n",
    "    print(\"\\n-\",i,\"  : \",end='')\n",
    "    for c in code:\n",
    "        if c.isdigit():\n",
    "            print(chr( ( ( ord(c) -  ord('0') ) - i )% 10 + ord('0')), end='')\n",
    "    \n",
    "    "
   ]
  },
  {
   "cell_type": "code",
   "execution_count": null,
   "id": "contrary-governor",
   "metadata": {},
   "outputs": [],
   "source": []
  },
  {
   "cell_type": "code",
   "execution_count": null,
   "id": "established-warrior",
   "metadata": {},
   "outputs": [],
   "source": []
  },
  {
   "cell_type": "code",
   "execution_count": 10,
   "id": "outer-bacon",
   "metadata": {
    "scrolled": true
   },
   "outputs": [
    {
     "name": "stdout",
     "output_type": "stream",
     "text": [
      "iepjoy   3\n",
      "epjoys   3\n",
      "ysyamw   2\n",
      "whmysy   2\n",
      "syamwh   2\n",
      "mysyam   2\n",
      "hmysya   2\n"
     ]
    }
   ],
   "source": [
    "#Word Count\n",
    "res = Counter(instr[idx : idx + 6] for idx in range(len(instr) - 1)) \n",
    "for t in (sorted( res.items(), key = lambda kv:(kv[1], kv[0]) , reverse = True) ):\n",
    "    if(t[1] > 1):\n",
    "        print(t[0],' ',t[1])"
   ]
  },
  {
   "cell_type": "code",
   "execution_count": null,
   "id": "latest-reaction",
   "metadata": {},
   "outputs": [],
   "source": []
  },
  {
   "cell_type": "markdown",
   "id": "raised-highway",
   "metadata": {},
   "source": [
    "# Discarded Code"
   ]
  },
  {
   "cell_type": "code",
   "execution_count": null,
   "id": "fifth-investment",
   "metadata": {},
   "outputs": [],
   "source": [
    "import string\n",
    "lowcase = {}\n",
    "for c in string.ascii_lowercase:\n",
    "    lowcase[c] = counts[c]\n",
    "upcase = {}\n",
    "for c in string.ascii_uppercase:\n",
    "    upcase[c] = counts[c]\n",
    "    \n",
    "for t in (sorted( lowcase.items(), key = lambda kv:(kv[1], kv[0])) ):\n",
    "    print(t[0],' ',t[1])\n",
    "for t in (sorted( upcase.items(), key = lambda kv:(kv[1], kv[0])) ):\n",
    "    print(t[0],' ',t[1])\n",
    "    \n",
    "sum = 0\n",
    "for t in counts:\n",
    "    sum = sum + counts[t]\n",
    "for t in (sorted( counts.items(), key = lambda kv:(kv[1], kv[0])) ):\n",
    "    print(t[0],' ',t[1]*100/sum)"
   ]
  },
  {
   "cell_type": "raw",
   "id": "favorite-titanium",
   "metadata": {},
   "source": []
  },
  {
   "cell_type": "code",
   "execution_count": null,
   "id": "illegal-billy",
   "metadata": {},
   "outputs": [],
   "source": [
    "# Tried to find some common 3 , 4 and 5 letter common word which are valid english word\n",
    "\n",
    "def setdiff(li1, li2):\n",
    "    li_dif = [i for i in li1 + li2 if i not in li1 or i not in li2]\n",
    "    return li_dif\n",
    "\n",
    "import string\n",
    "chars = []\n",
    "for c in string.ascii_lowercase:\n",
    "    chars.append(c)\n",
    "    \n",
    "import enchant\n",
    "d = enchant.Dict(\"en_US\")\n",
    "\n",
    "import gensim\n",
    "word2vec_path = 'GoogleNews-vectors-negative300.bin'\n",
    "word2vec      = gensim.models.KeyedVectors.load_word2vec_format(word2vec_path, binary=True)"
   ]
  },
  {
   "cell_type": "code",
   "execution_count": null,
   "id": "ethical-mission",
   "metadata": {},
   "outputs": [],
   "source": [
    "m = 't'\n",
    "def gen2(w,n):\n",
    "    return str(m+w+m+n+m+w)\n",
    "# 2 letter words\n",
    "i = 0\n",
    "for a in setdiff(chars,[m]):\n",
    "    for b in setdiff(chars,[m,a]):\n",
    "        word = gen2(a,b)\n",
    "        if word in word2vec or d.check(word):\n",
    "            print(i,'  ',a,' ',b,' ',word)\n",
    "            i = i+1"
   ]
  },
  {
   "cell_type": "raw",
   "id": "concrete-restoration",
   "metadata": {},
   "source": []
  },
  {
   "cell_type": "raw",
   "id": "adaptive-calculator",
   "metadata": {},
   "source": []
  }
 ],
 "metadata": {
  "kernelspec": {
   "display_name": "Python 3 (ipykernel)",
   "language": "python",
   "name": "python3"
  },
  "language_info": {
   "codemirror_mode": {
    "name": "ipython",
    "version": 3
   },
   "file_extension": ".py",
   "mimetype": "text/x-python",
   "name": "python",
   "nbconvert_exporter": "python",
   "pygments_lexer": "ipython3",
   "version": "3.8.5"
  }
 },
 "nbformat": 4,
 "nbformat_minor": 5
}
