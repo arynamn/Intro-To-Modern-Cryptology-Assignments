{
 "cells": [
  {
   "cell_type": "markdown",
   "id": "sudden-marble",
   "metadata": {},
   "source": [
    "#  GENERATE INPUTS"
   ]
  },
  {
   "cell_type": "code",
   "execution_count": 1,
   "id": "secret-berkeley",
   "metadata": {},
   "outputs": [],
   "source": [
    "tbitmap = {\n",
    "    '0000' : 'f',    '0001' : 'g',    '0010' : 'h',    '0011' : 'i',\n",
    "    '0100' : 'j',    '0101' : 'k',    '0110' : 'l',    '0111' : 'm',\n",
    "    '1000' : 'n',    '1001' : 'o',    '1010' : 'p',    '1011' : 'q',\n",
    "    '1100' : 'r',    '1101' : 's',    '1110' : 't',    '1111' : 'u'\n",
    "}\n",
    "\n",
    "tcharmap = {\n",
    "    'f' : '0000' ,    'g' : '0001' ,    'h' : '0010' ,    'i' : '0011' ,\n",
    "    'j' : '0100' ,    'k' : '0101' ,    'l' : '0110' ,    'm' : '0111' ,\n",
    "    'n' : '1000' ,    'o' : '1001' ,    'p' : '1010' ,    'q' : '1011' ,\n",
    "    'r' : '1100' ,    's' : '1101' ,    't' : '1110' ,    'u' : '1111' \n",
    "}"
   ]
  },
  {
   "cell_type": "code",
   "execution_count": 2,
   "id": "cardiovascular-effort",
   "metadata": {},
   "outputs": [],
   "source": [
    "def gen_inputs(loc, clean = 1 ):\n",
    "    file = open(loc,\"w\")\n",
    "    if( clean == 0 ):\n",
    "        file.write('Kerberos\\n')\n",
    "        file.write('Kerberos@2021\\n')\n",
    "        file.write('5\\n')\n",
    "        file.write('go\\n')\n",
    "        file.write('wave\\n')\n",
    "        file.write('dive\\n')\n",
    "        file.write('go\\n')\n",
    "        file.write('read\\n')\n",
    "        file.write('password\\n')\n",
    "        file.write('c\\n')\n",
    "        \n",
    "    for i in range(8):\n",
    "        for j in range(128):\n",
    "            binary_block = bin(j)[2:].zfill(8)\n",
    "            outs = ''\n",
    "            for k in range(8):\n",
    "                if( k==i ):\n",
    "                    outs = outs + tbitmap[binary_block[:4]] + tbitmap[binary_block[4:]]\n",
    "                else:\n",
    "                    outs = outs + 'ff'\n",
    "            file.write(outs)\n",
    "            if( clean == 0 ):\n",
    "                file.write(\"\\nc\\n\")\n",
    "            else:\n",
    "                file.write(' ')\n",
    "        if( clean == 1 ):\n",
    "            file.write('\\n')\n",
    "    if( clean == 0 ):\n",
    "        file.write('back\\n')\n",
    "        file.write('exit\\n')\n",
    "    file.close()"
   ]
  },
  {
   "cell_type": "code",
   "execution_count": 3,
   "id": "african-vision",
   "metadata": {},
   "outputs": [],
   "source": [
    "gen_inputs('input_clean.txt', 1)"
   ]
  },
  {
   "cell_type": "markdown",
   "id": "surprised-spanish",
   "metadata": {},
   "source": [
    "# CLEAN OUTPUT"
   ]
  },
  {
   "cell_type": "code",
   "execution_count": 4,
   "id": "upset-potential",
   "metadata": {},
   "outputs": [],
   "source": [
    "def clean_output():\n",
    "    ct1 = []\n",
    "\n",
    "    file1 = open(\"output.txt\",\"r\")\n",
    "    for i in range(139):\n",
    "        file1.readline()\n",
    "\n",
    "    for t in file1:\n",
    "        ct1.append(t[2:18])\n",
    "        for i in range(14):\n",
    "            file1.readline()\n",
    "\n",
    "    ciphertexts = ct1[:-1]\n",
    "\n",
    "    file = open('output_clean.txt',\"w\")\n",
    "    for i in range(8):\n",
    "        for j in range(128):\n",
    "            file.write(ciphertexts[i*128 + j])\n",
    "            file.write(' ')\n",
    "        file.write('\\n')\n",
    "        "
   ]
  },
  {
   "cell_type": "code",
   "execution_count": 5,
   "id": "incorporated-clearance",
   "metadata": {},
   "outputs": [],
   "source": [
    "clean_output()"
   ]
  },
  {
   "cell_type": "code",
   "execution_count": null,
   "id": "extensive-luxury",
   "metadata": {},
   "outputs": [],
   "source": []
  },
  {
   "cell_type": "markdown",
   "id": "focused-saint",
   "metadata": {},
   "source": [
    "# BREAK AES"
   ]
  },
  {
   "cell_type": "code",
   "execution_count": 6,
   "id": "invisible-lying",
   "metadata": {},
   "outputs": [],
   "source": [
    "# BYTES CHAR INT CONVERSTIONS\n",
    "def int2blocks( inbyte ):\n",
    "    inbyte = bin(inbyte)[2:].zfill(8)\n",
    "    return tbitmap[inbyte[0:4]] + tbitmap[inbyte[4:8]]\n",
    "\n",
    "def block2ints( block ):\n",
    "    byte = []\n",
    "    for i in range(0, len(block), 2):\n",
    "        byte.append( int( tcharmap[block[i]] + tcharmap[block[i+1]], 2) )\n",
    "    return byte"
   ]
  },
  {
   "cell_type": "code",
   "execution_count": 7,
   "id": "biblical-kansas",
   "metadata": {},
   "outputs": [],
   "source": [
    "# AES FUNCTIONS\n",
    "from pyfinite import ffield\n",
    "\n",
    "F = ffield.FField(7)\n",
    "exp_temp = [[-1]*128 for i in range(128)]\n",
    "\n",
    "def Xor(a, b):\n",
    "    return int(a) ^ int(b)\n",
    "\n",
    "def M(a, b):                  #Field Multiplication\n",
    "    return F.Multiply(a, b)\n",
    "\n",
    "def E(num, power):            # Exponentiation\n",
    "    if exp_temp[num][power] != -1:\n",
    "        return exp_temp[num][power]\n",
    "\n",
    "    result = 0\n",
    "    if power == 0:\n",
    "        result = 1\n",
    "    elif power == 1:\n",
    "        result = num\n",
    "    elif power%2 == 0:\n",
    "        temp = E(num, power>>1)\n",
    "        result = M(temp, temp)\n",
    "    else:\n",
    "        temp = E(num, power>>1)\n",
    "        result = M(temp, temp)\n",
    "        result = M(num, result)\n",
    "\n",
    "    exp_temp[num][power] = result\n",
    "    return result\n",
    "\n",
    "\n",
    "def A(matrix, block):     #Affine Transformation\n",
    "    result = [0]*8\n",
    "    for row, element in zip(matrix, block):\n",
    "        scalarMultiply = []\n",
    "        for i in range(len(row)):\n",
    "            scalarMultiply.append( M(row[i], element) )\n",
    "        for i in range(len(result)):\n",
    "            result[i] = Xor( result[i], scalarMultiply[i])  \n",
    "    return result\n",
    "\n",
    "def EAEAE(pt, AM, EM):\n",
    "    outE = []\n",
    "    for i in range( len(pt)):\n",
    "        outE.append( E( pt[i], EM[i] ) )\n",
    "    outA = A(AM, outE)\n",
    "    outE = []\n",
    "    for i in range( len(pt)):\n",
    "        outE.append( E( outA[i], EM[i] ) )\n",
    "    outA = A(AM, outE)\n",
    "    outE = []\n",
    "    for i in range( len(pt)):\n",
    "        outE.append( E( outA[i], EM[i] ) )\n",
    "    return outE"
   ]
  },
  {
   "cell_type": "code",
   "execution_count": 8,
   "id": "wound-alexander",
   "metadata": {},
   "outputs": [],
   "source": [
    "def read_files(loc):\n",
    "    listtext = []\n",
    "    file = open(loc, 'r')\n",
    "    lines = file.readlines()\n",
    "    for line in lines:\n",
    "        pts = line.split(' ')\n",
    "        listtext.append(pts[:-1])\n",
    "    return listtext"
   ]
  },
  {
   "cell_type": "code",
   "execution_count": null,
   "id": "stone-christmas",
   "metadata": {},
   "outputs": [],
   "source": []
  },
  {
   "cell_type": "code",
   "execution_count": null,
   "id": "southeast-rochester",
   "metadata": {},
   "outputs": [],
   "source": []
  },
  {
   "cell_type": "code",
   "execution_count": 9,
   "id": "outdoor-extent",
   "metadata": {},
   "outputs": [],
   "source": [
    "pt = read_files('input_clean.txt')\n",
    "ct = read_files('output_clean.txt')\n",
    "for i in range(len(pt)):\n",
    "    for j in range( len(pt[i])):\n",
    "        pt[i][j] = block2ints(  pt[i][j] )\n",
    "        ct[i][j] = block2ints(  ct[i][j] )   "
   ]
  },
  {
   "cell_type": "code",
   "execution_count": 10,
   "id": "competitive-number",
   "metadata": {},
   "outputs": [
    {
     "data": {
      "text/plain": [
       "([[[27, 84, 84], [], [], [], [], [], [], []],\n",
       "  [[], [72, 101, 70], [], [], [], [], [], []],\n",
       "  [[], [], [43, 14, 72], [], [], [], [], []],\n",
       "  [[], [], [], [38, 113, 12], [], [], [], []],\n",
       "  [[], [], [], [], [118, 112, 20], [], [], []],\n",
       "  [[], [], [], [], [], [11, 106, 70], [], []],\n",
       "  [[], [], [], [], [], [], [123, 27, 63], []],\n",
       "  [[], [], [], [], [], [], [], [38, 61, 125]]],\n",
       " [[1, 19, 107],\n",
       "  [53, 83, 118],\n",
       "  [40, 89, 125],\n",
       "  [4, 47, 76],\n",
       "  [40, 89, 125],\n",
       "  [40, 89, 125],\n",
       "  [18, 21, 88],\n",
       "  [15, 31, 81]])"
      ]
     },
     "execution_count": 10,
     "metadata": {},
     "output_type": "execute_result"
    }
   ],
   "source": [
    "# Finding possible diagonals of A matrix and E Matrix\n",
    "E_temps = [[] for i in range(8)]\n",
    "A_temps = [[[] for i in range(8)] for j in range(8)]\n",
    "for index in range(8):\n",
    "    pairs = []\n",
    "    for i in range(len(pt)):\n",
    "        pairs.append( (pt[index][i][index],ct[index][i][index]) )\n",
    "    \n",
    "    for i in range(1,127):\n",
    "        for j in range(1,128):\n",
    "            flag = True\n",
    "            for x in pairs:\n",
    "                if x[1] != E(M(E(M(E( x[0], i), j), i), j), i):\n",
    "                    flag = False\n",
    "                    break\n",
    "            if flag:\n",
    "                E_temps[index].append(i)\n",
    "                A_temps[index][index].append(j) \n",
    "\n",
    "A_temps, E_temps"
   ]
  },
  {
   "cell_type": "code",
   "execution_count": 11,
   "id": "dietary-vanilla",
   "metadata": {},
   "outputs": [
    {
     "data": {
      "text/plain": [
       "([[[84], [115], [], [], [], [], [], []],\n",
       "  [[], [70], [28], [], [], [], [], []],\n",
       "  [[], [], [43], [12], [], [], [], []],\n",
       "  [[], [], [], [12], [119], [], [], []],\n",
       "  [[], [], [], [], [112], [111], [], []],\n",
       "  [[], [], [], [], [], [11], [93], []],\n",
       "  [[], [], [], [], [], [], [27], [25]],\n",
       "  [[], [], [], [], [], [], [], [38]]],\n",
       " [[19], [118], [40], [76], [89], [40], [21], [15]])"
      ]
     },
     "execution_count": 11,
     "metadata": {},
     "output_type": "execute_result"
    }
   ],
   "source": [
    "# Finding Exact possible diagonal elemnt of A and eleents of E matrix\n",
    "for index in range(7):\n",
    "    pairs = []\n",
    "    for i in range(len(pt)):\n",
    "        pairs.append( (pt[index][i][index],ct[index][i][index+1]) )\n",
    "            \n",
    "    for i in range(1,128):\n",
    "        for ei, ai in zip(E_temps[index], A_temps[index][index]):\n",
    "            for ei1, ai1 in zip(E_temps[index+1], A_temps[index+1][index+1]):\n",
    "            \n",
    "                flag = True\n",
    "                for x in pairs:\n",
    "                    if x[1] != E(Xor( M(E(M(E(x[0], ei), ai), ei), i) ,\n",
    "                                      M(E(M(E(x[0], ei), i), ei1), ai1)) ,\n",
    "                                     ei1):\n",
    "                        flag = False\n",
    "                        break\n",
    "                if flag:\n",
    "                    E_temps[index+1]          = [ei1]\n",
    "                    E_temps[index]            = [ei]\n",
    "                    A_temps[index+1][index+1] = [ai1]\n",
    "                    A_temps[index][index]     = [ai]\n",
    "                    A_temps[index][index+1]   = [i]\n",
    "                \n",
    "A_temps, E_temps"
   ]
  },
  {
   "cell_type": "code",
   "execution_count": 12,
   "id": "alive-swing",
   "metadata": {},
   "outputs": [
    {
     "data": {
      "text/plain": [
       "([[84, 115, 0, 0, 0, 0, 0, 0],\n",
       "  [0, 70, 28, 0, 0, 0, 0, 0],\n",
       "  [0, 0, 43, 12, 0, 0, 0, 0],\n",
       "  [0, 0, 0, 12, 119, 0, 0, 0],\n",
       "  [0, 0, 0, 0, 112, 111, 0, 0],\n",
       "  [0, 0, 0, 0, 0, 11, 93, 0],\n",
       "  [0, 0, 0, 0, 0, 0, 27, 25],\n",
       "  [0, 0, 0, 0, 0, 0, 0, 38]],\n",
       " [19, 118, 40, 76, 89, 40, 21, 15])"
      ]
     },
     "execution_count": 12,
     "metadata": {},
     "output_type": "execute_result"
    }
   ],
   "source": [
    "# Generating Exact A and E matrix\n",
    "EM = []\n",
    "AM = []\n",
    "for i in range(8):\n",
    "    EM.append( E_temps[i][0] )\n",
    "    lst = []\n",
    "    for j in range(8):\n",
    "        if( A_temps[i][j] == [] ):\n",
    "            lst.append(0)\n",
    "        else:\n",
    "            lst.append( A_temps[i][j][0])\n",
    "    AM.append(lst)\n",
    "    \n",
    "AM,EM"
   ]
  },
  {
   "cell_type": "code",
   "execution_count": 13,
   "id": "composed-architecture",
   "metadata": {
    "scrolled": true
   },
   "outputs": [
    {
     "name": "stdout",
     "output_type": "stream",
     "text": [
      "Final Matrices\n"
     ]
    },
    {
     "data": {
      "text/plain": [
       "([[84, 115, 14, 97, 96, 19, 11, 76],\n",
       "  [0, 70, 28, 21, 43, 53, 120, 12],\n",
       "  [0, 0, 43, 12, 12, 18, 20, 95],\n",
       "  [0, 0, 0, 12, 119, 41, 101, 22],\n",
       "  [0, 0, 0, 0, 112, 111, 30, 21],\n",
       "  [0, 0, 0, 0, 0, 11, 93, 72],\n",
       "  [0, 0, 0, 0, 0, 0, 27, 25],\n",
       "  [0, 0, 0, 0, 0, 0, 0, 38]],\n",
       " [19, 118, 40, 76, 89, 40, 21, 15])"
      ]
     },
     "execution_count": 13,
     "metadata": {},
     "output_type": "execute_result"
    }
   ],
   "source": [
    "# Computing Remaining Elements\n",
    "\n",
    "for diagindex in range(6):\n",
    "    #print()\n",
    "    #print(diagindex, end = '  : ')\n",
    "    offset = diagindex + 2\n",
    "    \n",
    "    for index in range(len(pt)):\n",
    "        if( index > 7 - offset):\n",
    "            continue\n",
    "        \n",
    "        #print(index+offset, end = '  ,')\n",
    "        pts = pt[index]\n",
    "        cts = ct[index]\n",
    "        \n",
    "        for i in range(1,128):\n",
    "            AM[index][index + offset] = i\n",
    "            flag = True\n",
    "            for j in range(len( pts )):\n",
    "                if( EAEAE( pts[j], AM, EM ) [index + offset] != cts[j][index + offset] ):\n",
    "                    flag = False\n",
    "                    break\n",
    "            if flag:\n",
    "                A_temps[index][index + offset] = [i]\n",
    "        AM[index][index+offset] = A_temps[index][index + offset][0]\n",
    "\n",
    "print('Final Matrices')\n",
    "AM,EM"
   ]
  },
  {
   "cell_type": "code",
   "execution_count": null,
   "id": "focused-situation",
   "metadata": {},
   "outputs": [],
   "source": []
  },
  {
   "cell_type": "markdown",
   "id": "artificial-assist",
   "metadata": {},
   "source": [
    "# Decrypting the Password"
   ]
  },
  {
   "cell_type": "code",
   "execution_count": 14,
   "id": "numerous-situation",
   "metadata": {},
   "outputs": [],
   "source": [
    "encrypted_password = 'gsgqljjkfgglmufrifkfhjjtmikjflkr'"
   ]
  },
  {
   "cell_type": "code",
   "execution_count": 15,
   "id": "preceding-placement",
   "metadata": {},
   "outputs": [],
   "source": [
    "enc_ints = block2ints(  encrypted_password )"
   ]
  },
  {
   "cell_type": "code",
   "execution_count": 16,
   "id": "tribal-scanner",
   "metadata": {},
   "outputs": [],
   "source": [
    "def DecryptPassword(password):\n",
    "    output = \"\"\n",
    "    for ind in range(8):\n",
    "        for ans in range(128):\n",
    "            inp = output + int2blocks(ans) + (14-len(output))*'f'\n",
    "            if (password[ind]) == EAEAE( block2ints(inp), AM, EM)[ind]:\n",
    "                output += int2blocks(ans)\n",
    "                break\n",
    "    return output"
   ]
  },
  {
   "cell_type": "code",
   "execution_count": 17,
   "id": "tamil-alignment",
   "metadata": {},
   "outputs": [
    {
     "name": "stdout",
     "output_type": "stream",
     "text": [
      "mimmmgmhlglsltlrlgljifififififif\n",
      "swqramnlad000000"
     ]
    }
   ],
   "source": [
    "dec_password  = DecryptPassword(enc_ints[0:8])  +  DecryptPassword(enc_ints[8:16]) \n",
    "print(dec_password)\n",
    "for i in block2ints(  dec_password ):\n",
    "    print( chr(i) , end = '' )"
   ]
  }
 ],
 "metadata": {
  "kernelspec": {
   "display_name": "Python 3",
   "language": "python",
   "name": "python3"
  },
  "language_info": {
   "codemirror_mode": {
    "name": "ipython",
    "version": 3
   },
   "file_extension": ".py",
   "mimetype": "text/x-python",
   "name": "python",
   "nbconvert_exporter": "python",
   "pygments_lexer": "ipython3",
   "version": "3.7.10"
  }
 },
 "nbformat": 4,
 "nbformat_minor": 5
}
